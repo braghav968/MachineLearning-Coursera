Skip to content
 
Search or jump to…

Pull requests
Issues
Marketplace
Explore
 @braghav968 Sign out
0
0 0 braghav968/MachineLearning-Coursera
 Code  Issues 0  Pull requests 0  Projects 0  Wiki  Insights  Settings
MachineLearning-Coursera/ 
Convolution+model+-+Application+-+v1.ipynb
  or cancel
 Indent modeIndent sizeLine wrap mode
1
{
2
 "cells": [
3
  {
4
   "cell_type": "markdown",
5
   "metadata": {},
6
   "source": [
7
    "# Convolutional Neural Networks: Application\n",
8
    "\n",
9
    "Welcome to Course 4's second assignment! In this notebook, you will:\n",
10
    "\n",
11
    "- Implement helper functions that you will use when implementing a TensorFlow model\n",
12
    "- Implement a fully functioning ConvNet using TensorFlow \n",
13
    "\n",
14
    "**After this assignment you will be able to:**\n",
15
    "\n",
16
    "- Build and train a ConvNet in TensorFlow for a classification problem \n",
17
    "\n",
18
    "We assume here that you are already familiar with TensorFlow. If you are not, please refer the *TensorFlow Tutorial* of the third week of Course 2 (\"*Improving deep neural networks*\")."
19
   ]
20
  },
21
  {
22
   "cell_type": "markdown",
23
   "metadata": {},
24
   "source": [
25
    "## 1.0 - TensorFlow model\n",
26
    "\n",
27
    "In the previous assignment, you built helper functions using numpy to understand the mechanics behind convolutional neural networks. Most practical applications of deep learning today are built using programming frameworks, which have many built-in functions you can simply call. \n",
28
    "\n",
29
    "As usual, we will start by loading in the packages. "
30
   ]
31
  },
32
  {
33
   "cell_type": "code",
34
   "execution_count": 1,
35
   "metadata": {
36
    "collapsed": true
37
   },
38
   "outputs": [],
39
   "source": [
40
    "import math\n",
41
    "import numpy as np\n",
42
    "import h5py\n",
43
    "import matplotlib.pyplot as plt\n",
44
    "import scipy\n",
45
    "from PIL import Image\n",
46
    "from scipy import ndimage\n",
47
    "import tensorflow as tf\n",
48
    "from tensorflow.python.framework import ops\n",
49
    "from cnn_utils import *\n",
50
    "\n",
@braghav968
Commit changes
Commit summary 
Update Convolution+model+-+Application+-+v1.ipynb
Optional extended description
Add an optional extended description…
  Commit directly to the Convolutional-Neural-Networks branch.
  Create a new branch for this commit and start a pull request. Learn more about pull requests.
 
© 2019 GitHub, Inc.
Terms
Privacy
Security
Status
Help
Contact GitHub
Pricing
API
Training
Blog
About
